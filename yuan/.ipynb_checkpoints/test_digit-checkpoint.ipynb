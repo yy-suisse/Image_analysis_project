{
 "cells": [
  {
   "cell_type": "code",
   "execution_count": 2,
   "id": "embedded-introduction",
   "metadata": {},
   "outputs": [],
   "source": [
    "import os, sys\n",
    "import recognition_digit,card_segmentation\n",
    "import matplotlib.pyplot as plt\n",
    "import numpy as np\n",
    "from scipy import ndimage\n",
    "from skimage.morphology import thin\n",
    "from numpy import arange\n",
    "from numpy import meshgrid"
   ]
  },
  {
   "cell_type": "markdown",
   "id": "intimate-piano",
   "metadata": {},
   "source": [
    "# 1. find king"
   ]
  },
  {
   "cell_type": "code",
   "execution_count": 3,
   "id": "acquired-world",
   "metadata": {
    "scrolled": true
   },
   "outputs": [
    {
     "name": "stdout",
     "output_type": "stream",
     "text": [
      "['../train_games\\\\game1\\\\1.jpg', '../train_games\\\\game1\\\\10.jpg', '../train_games\\\\game1\\\\11.jpg', '../train_games\\\\game1\\\\12.jpg', '../train_games\\\\game1\\\\13.jpg', '../train_games\\\\game1\\\\2.jpg', '../train_games\\\\game1\\\\3.jpg', '../train_games\\\\game1\\\\4.jpg', '../train_games\\\\game1\\\\5.jpg', '../train_games\\\\game1\\\\6.jpg', '../train_games\\\\game1\\\\7.jpg', '../train_games\\\\game1\\\\8.jpg', '../train_games\\\\game1\\\\9.jpg', '../train_games\\\\game1\\\\game1.csv', '../train_games\\\\game2\\\\1.jpg', '../train_games\\\\game2\\\\10.jpg', '../train_games\\\\game2\\\\11.jpg', '../train_games\\\\game2\\\\12.jpg', '../train_games\\\\game2\\\\13.jpg', '../train_games\\\\game2\\\\2.jpg', '../train_games\\\\game2\\\\3.jpg', '../train_games\\\\game2\\\\4.jpg', '../train_games\\\\game2\\\\5.jpg', '../train_games\\\\game2\\\\6.jpg', '../train_games\\\\game2\\\\7.jpg', '../train_games\\\\game2\\\\8.jpg', '../train_games\\\\game2\\\\9.jpg', '../train_games\\\\game2\\\\game2.csv', '../train_games\\\\game3\\\\1.jpg', '../train_games\\\\game3\\\\10.jpg', '../train_games\\\\game3\\\\11.jpg', '../train_games\\\\game3\\\\12.jpg', '../train_games\\\\game3\\\\13.jpg', '../train_games\\\\game3\\\\2.jpg', '../train_games\\\\game3\\\\3.jpg', '../train_games\\\\game3\\\\4.jpg', '../train_games\\\\game3\\\\5.jpg', '../train_games\\\\game3\\\\6.jpg', '../train_games\\\\game3\\\\7.jpg', '../train_games\\\\game3\\\\8.jpg', '../train_games\\\\game3\\\\9.jpg', '../train_games\\\\game3\\\\game3.csv', '../train_games\\\\game4\\\\1.jpg', '../train_games\\\\game4\\\\10.jpg', '../train_games\\\\game4\\\\11.jpg', '../train_games\\\\game4\\\\12.jpg', '../train_games\\\\game4\\\\13.jpg', '../train_games\\\\game4\\\\2.jpg', '../train_games\\\\game4\\\\3.jpg', '../train_games\\\\game4\\\\4.jpg', '../train_games\\\\game4\\\\5.jpg', '../train_games\\\\game4\\\\6.jpg', '../train_games\\\\game4\\\\7.jpg', '../train_games\\\\game4\\\\8.jpg', '../train_games\\\\game4\\\\9.jpg', '../train_games\\\\game4\\\\game4.csv', '../train_games\\\\game5\\\\1.jpg', '../train_games\\\\game5\\\\10.jpg', '../train_games\\\\game5\\\\11.jpg', '../train_games\\\\game5\\\\12.jpg', '../train_games\\\\game5\\\\13.jpg', '../train_games\\\\game5\\\\2.jpg', '../train_games\\\\game5\\\\3.jpg', '../train_games\\\\game5\\\\4.jpg', '../train_games\\\\game5\\\\5.jpg', '../train_games\\\\game5\\\\6.jpg', '../train_games\\\\game5\\\\7.jpg', '../train_games\\\\game5\\\\8.jpg', '../train_games\\\\game5\\\\9.jpg', '../train_games\\\\game5\\\\game5.csv', '../train_games\\\\game6\\\\1.jpg', '../train_games\\\\game6\\\\10.jpg', '../train_games\\\\game6\\\\11.jpg', '../train_games\\\\game6\\\\12.jpg', '../train_games\\\\game6\\\\13.jpg', '../train_games\\\\game6\\\\2.jpg', '../train_games\\\\game6\\\\3.jpg', '../train_games\\\\game6\\\\4.jpg', '../train_games\\\\game6\\\\5.jpg', '../train_games\\\\game6\\\\6.jpg', '../train_games\\\\game6\\\\7.jpg', '../train_games\\\\game6\\\\8.jpg', '../train_games\\\\game6\\\\9.jpg', '../train_games\\\\game6\\\\game6.csv', '../train_games\\\\game7\\\\1.jpg', '../train_games\\\\game7\\\\10.jpg', '../train_games\\\\game7\\\\11.jpg', '../train_games\\\\game7\\\\12.jpg', '../train_games\\\\game7\\\\13.jpg', '../train_games\\\\game7\\\\2.jpg', '../train_games\\\\game7\\\\3.jpg', '../train_games\\\\game7\\\\4.jpg', '../train_games\\\\game7\\\\5.jpg', '../train_games\\\\game7\\\\6.jpg', '../train_games\\\\game7\\\\7.jpg', '../train_games\\\\game7\\\\8.jpg', '../train_games\\\\game7\\\\9.jpg', '../train_games\\\\game7\\\\game7.csv']\n",
      "../train_games\\game1\\1.jpg\n"
     ]
    },
    {
     "name": "stderr",
     "output_type": "stream",
     "text": [
      "C:\\Users\\zyysu\\AppData\\Local\\Programs\\Python\\Python39\\lib\\site-packages\\sklearn\\cluster\\_kmeans.py:984: RuntimeWarning: Explicit initial center position passed: performing only one init in KMeans instead of n_init=10.\n",
      "  self._check_params(X)\n"
     ]
    },
    {
     "name": "stdout",
     "output_type": "stream",
     "text": [
      "../train_games\\game1\\10.jpg\n"
     ]
    },
    {
     "name": "stderr",
     "output_type": "stream",
     "text": [
      "C:\\Users\\zyysu\\AppData\\Local\\Programs\\Python\\Python39\\lib\\site-packages\\sklearn\\cluster\\_kmeans.py:984: RuntimeWarning: Explicit initial center position passed: performing only one init in KMeans instead of n_init=10.\n",
      "  self._check_params(X)\n"
     ]
    },
    {
     "ename": "KeyboardInterrupt",
     "evalue": "",
     "output_type": "error",
     "traceback": [
      "\u001b[1;31m---------------------------------------------------------------------------\u001b[0m",
      "\u001b[1;31mKeyboardInterrupt\u001b[0m                         Traceback (most recent call last)",
      "\u001b[1;32m<ipython-input-3-3c4ef50e938a>\u001b[0m in \u001b[0;36m<module>\u001b[1;34m\u001b[0m\n\u001b[0;32m     20\u001b[0m \u001b[1;33m\u001b[0m\u001b[0m\n\u001b[0;32m     21\u001b[0m         \u001b[0mplayers\u001b[0m\u001b[1;33m,\u001b[0m\u001b[0mcenters\u001b[0m\u001b[1;33m,\u001b[0m\u001b[0mpoints_f\u001b[0m\u001b[1;33m,\u001b[0m\u001b[0mlabels\u001b[0m \u001b[1;33m=\u001b[0m \u001b[0mcard_segmentation\u001b[0m\u001b[1;33m.\u001b[0m\u001b[0mplayers_clustering\u001b[0m\u001b[1;33m(\u001b[0m\u001b[0mmask\u001b[0m\u001b[1;33m)\u001b[0m\u001b[1;33m\u001b[0m\u001b[1;33m\u001b[0m\u001b[0m\n\u001b[1;32m---> 22\u001b[1;33m         \u001b[0mcards\u001b[0m\u001b[1;33m,\u001b[0m\u001b[0mleft_lowers\u001b[0m\u001b[1;33m,\u001b[0m\u001b[0mright_lowers\u001b[0m\u001b[1;33m,\u001b[0m\u001b[0mright_uppers\u001b[0m \u001b[1;33m=\u001b[0m \u001b[0mcard_segmentation\u001b[0m\u001b[1;33m.\u001b[0m\u001b[0mfind_corners\u001b[0m\u001b[1;33m(\u001b[0m\u001b[0mplayers\u001b[0m\u001b[1;33m,\u001b[0m\u001b[0mcenters\u001b[0m\u001b[1;33m,\u001b[0m\u001b[0mimage\u001b[0m\u001b[1;33m)\u001b[0m\u001b[1;33m\u001b[0m\u001b[1;33m\u001b[0m\u001b[0m\n\u001b[0m\u001b[0;32m     23\u001b[0m         \u001b[1;32mfor\u001b[0m \u001b[0mcard\u001b[0m \u001b[1;32min\u001b[0m \u001b[0mcards\u001b[0m\u001b[1;33m:\u001b[0m\u001b[1;33m\u001b[0m\u001b[1;33m\u001b[0m\u001b[0m\n\u001b[0;32m     24\u001b[0m             \u001b[0mrecognition_digit\u001b[0m\u001b[1;33m.\u001b[0m\u001b[0mfind_king\u001b[0m\u001b[1;33m(\u001b[0m\u001b[0mcard\u001b[0m\u001b[1;33m)\u001b[0m\u001b[1;33m\u001b[0m\u001b[1;33m\u001b[0m\u001b[0m\n",
      "\u001b[1;32m~\\OneDrive\\Bureau\\MA2\\pattern\\Image_analysis_project\\yuan\\card_segmentation.py\u001b[0m in \u001b[0;36mfind_corners\u001b[1;34m(players, centers, image)\u001b[0m\n\u001b[0;32m    181\u001b[0m         \u001b[0mprint\u001b[0m\u001b[1;33m(\u001b[0m\u001b[1;34m\"right upper:\"\u001b[0m\u001b[1;33m,\u001b[0m\u001b[0mright_upper\u001b[0m\u001b[1;33m)\u001b[0m\u001b[1;33m\u001b[0m\u001b[1;33m\u001b[0m\u001b[0m\n\u001b[0;32m    182\u001b[0m         \"\"\"\n\u001b[1;32m--> 183\u001b[1;33m         \u001b[0misolated\u001b[0m \u001b[1;33m=\u001b[0m \u001b[0maffin_transform\u001b[0m\u001b[1;33m(\u001b[0m\u001b[0mplayer\u001b[0m\u001b[1;33m,\u001b[0m\u001b[0mleft_lower\u001b[0m\u001b[1;33m,\u001b[0m\u001b[0mright_lower\u001b[0m\u001b[1;33m,\u001b[0m\u001b[0mright_upper\u001b[0m\u001b[1;33m,\u001b[0m\u001b[0mimage\u001b[0m\u001b[1;33m)\u001b[0m\u001b[1;33m\u001b[0m\u001b[1;33m\u001b[0m\u001b[0m\n\u001b[0m\u001b[0;32m    184\u001b[0m         \u001b[0misolated_cards\u001b[0m\u001b[1;33m.\u001b[0m\u001b[0mappend\u001b[0m\u001b[1;33m(\u001b[0m\u001b[0misolated\u001b[0m\u001b[1;33m)\u001b[0m\u001b[1;33m\u001b[0m\u001b[1;33m\u001b[0m\u001b[0m\n\u001b[0;32m    185\u001b[0m \u001b[1;33m\u001b[0m\u001b[0m\n",
      "\u001b[1;32m~\\OneDrive\\Bureau\\MA2\\pattern\\Image_analysis_project\\yuan\\card_segmentation.py\u001b[0m in \u001b[0;36maffin_transform\u001b[1;34m(player, left_lower, right_lower, right_upper, image)\u001b[0m\n\u001b[0;32m    199\u001b[0m         \u001b[0moutput_pts\u001b[0m \u001b[1;33m=\u001b[0m \u001b[0mnp\u001b[0m\u001b[1;33m.\u001b[0m\u001b[0mfloat32\u001b[0m\u001b[1;33m(\u001b[0m\u001b[1;33m[\u001b[0m\u001b[1;33m[\u001b[0m\u001b[0mcols\u001b[0m\u001b[1;33m,\u001b[0m\u001b[0mrows\u001b[0m\u001b[1;33m]\u001b[0m\u001b[1;33m,\u001b[0m\u001b[1;33m[\u001b[0m\u001b[0mcols\u001b[0m\u001b[1;33m,\u001b[0m\u001b[1;36m0\u001b[0m\u001b[1;33m]\u001b[0m\u001b[1;33m,\u001b[0m\u001b[1;33m[\u001b[0m\u001b[1;36m0\u001b[0m\u001b[1;33m,\u001b[0m\u001b[1;36m0\u001b[0m\u001b[1;33m]\u001b[0m\u001b[1;33m]\u001b[0m\u001b[1;33m)\u001b[0m\u001b[1;33m\u001b[0m\u001b[1;33m\u001b[0m\u001b[0m\n\u001b[0;32m    200\u001b[0m \u001b[1;33m\u001b[0m\u001b[0m\n\u001b[1;32m--> 201\u001b[1;33m     \u001b[0mM\u001b[0m\u001b[1;33m=\u001b[0m \u001b[0mcv2\u001b[0m\u001b[1;33m.\u001b[0m\u001b[0mgetAffineTransform\u001b[0m\u001b[1;33m(\u001b[0m\u001b[0minput_pts\u001b[0m \u001b[1;33m,\u001b[0m \u001b[0moutput_pts\u001b[0m\u001b[1;33m)\u001b[0m\u001b[1;33m\u001b[0m\u001b[1;33m\u001b[0m\u001b[0m\n\u001b[0m\u001b[0;32m    202\u001b[0m     \u001b[0mres\u001b[0m \u001b[1;33m=\u001b[0m \u001b[0mcv2\u001b[0m\u001b[1;33m.\u001b[0m\u001b[0mwarpAffine\u001b[0m\u001b[1;33m(\u001b[0m\u001b[0mimage\u001b[0m\u001b[1;33m,\u001b[0m \u001b[0mM\u001b[0m\u001b[1;33m,\u001b[0m \u001b[1;33m(\u001b[0m\u001b[0mcols\u001b[0m\u001b[1;33m,\u001b[0m\u001b[0mrows\u001b[0m\u001b[1;33m)\u001b[0m\u001b[1;33m)\u001b[0m\u001b[1;33m\u001b[0m\u001b[1;33m\u001b[0m\u001b[0m\n\u001b[0;32m    203\u001b[0m     \u001b[1;32mreturn\u001b[0m \u001b[0mres\u001b[0m\u001b[1;33m\u001b[0m\u001b[1;33m\u001b[0m\u001b[0m\n",
      "\u001b[1;31mKeyboardInterrupt\u001b[0m: "
     ]
    }
   ],
   "source": [
    "file_list = card_segmentation.walkFile(\"../train_games\")\n",
    "file_pics=[]\n",
    "print(file_list)\n",
    "for file in file_list:\n",
    "    if file.endswith('.jpg'):\n",
    "        recognition_digit\n",
    "        image = card_segmentation.read_image(file)\n",
    "            \n",
    "        print(file)    \n",
    "        mask_t = card_segmentation.mask_thre(image)\n",
    "        image = card_segmentation.mask_dealer(image)\n",
    "        mask_r = card_segmentation.mask_range(image)\n",
    "        labeled_array, num_features = ndimage.label(mask_t, structure = np.ones((3,3)))\n",
    "\n",
    "        for i in range(num_features):\n",
    "            if np.sum(mask_r[labeled_array == i+1]) < 255 * 600:\n",
    "                mask_t[labeled_array == i+1] = 0\n",
    "                \n",
    "        mask = np.uint8(mask_t)\n",
    "\n",
    "        players,centers,points_f,labels = card_segmentation.players_clustering(mask)\n",
    "        cards,left_lowers,right_lowers,right_uppers = card_segmentation.find_corners(players,centers,image)\n",
    "        for card in cards:\n",
    "            recognition_digit.find_king(card)\n",
    "            "
   ]
  },
  {
   "cell_type": "markdown",
   "id": "unsigned-consequence",
   "metadata": {},
   "source": [
    "# 2. differentiate 1 and J"
   ]
  },
  {
   "cell_type": "code",
   "execution_count": 5,
   "id": "labeled-discount",
   "metadata": {},
   "outputs": [
    {
     "name": "stdout",
     "output_type": "stream",
     "text": [
      "['1_and_j\\\\10.jpg', '1_and_j\\\\11.jpg', '1_and_j\\\\12.jpg', '1_and_j\\\\13.jpg', '1_and_j\\\\14.jpg', '1_and_j\\\\15.jpg', '1_and_j\\\\16.jpg', '1_and_j\\\\17.jpg', '1_and_j\\\\J0.jpg', '1_and_j\\\\J1.jpg', '1_and_j\\\\J2.jpg', '1_and_j\\\\J3.jpg', '1_and_j\\\\J4.jpg', '1_and_j\\\\J5.jpg', '1_and_j\\\\J6.jpg', '1_and_j\\\\J7.jpg']\n"
     ]
    },
    {
     "data": {
      "image/png": "[encoded data removed]",
      "text/plain": [
       "<Figure size 1296x648 with 1 Axes>"
      ]
     },
     "metadata": {
      "needs_background": "light"
     },
     "output_type": "display_data"
    }
   ],
   "source": [
    "ones_im,Js_im = recognition_digit.load_1_J_training('1_and_j')\n",
    "Js_thin,ones_thin = recognition_digit.thin_images(Js_im, ones_im)\n",
    "o_J_0,o_J_1,o_1_0,o_1_1 = recognition_digit.plot_result(Js_thin, ones_thin,1,2)\n",
    "\n",
    "plt.figure(figsize=(18, 9)) \n",
    "\n",
    "plt.subplot(2, 6, 1)\n",
    "plt.scatter(o_J_0,o_J_1,marker='o', s=40, c='black', alpha=0.5, label = 'J')\n",
    "plt.scatter(o_1_0,o_1_1,marker='o', s=40, c='red', alpha=0.5, label = '1')\n",
    "plt.legend(loc = \"upper right\")\n",
    "plt.xlabel('f1')\n",
    "plt.ylabel('f2')\n",
    "plt.title('J VS 1')\n",
    "plt.show()"
   ]
  },
  {
   "cell_type": "markdown",
   "id": "devoted-evidence",
   "metadata": {},
   "source": [
    "# 3. MD classifier"
   ]
  },
  {
   "cell_type": "code",
   "execution_count": 3,
   "id": "level-bennett",
   "metadata": {},
   "outputs": [],
   "source": [
    "J_datas_temp = [[a,b] for a,b in zip(o_J_0, o_J_1)]\n",
    "J_datas = np.asarray(J_datas_temp)\n",
    "\n",
    "one_datas_temp = [[a,b] for a,b in zip(o_1_0, o_1_1)]\n",
    "one_datas = np.asarray(one_datas_temp)\n"
   ]
  },
  {
   "cell_type": "code",
   "execution_count": 6,
   "id": "ultimate-request",
   "metadata": {},
   "outputs": [],
   "source": [
    "mu_J = np.mean (J_datas, axis = 0, dtype = None) \n",
    "mu_1 = np.mean (one_datas, axis = 0, dtype = None) \n",
    "\n",
    "# For simplicity reasons, we round the estimated covariant matrix to the closest integer value.\n",
    "J_datas_t = np.array(J_datas).T\n",
    "covMatrix_J = np.cov(J_datas_t,bias=True)\n",
    "\n",
    "\n",
    "one_datas_t = np.array(one_datas).T\n",
    "covMatrix_1 = np.cov(one_datas_t,bias=True)\n",
    "\n",
    "\n",
    "\n",
    "\n",
    "# computation of inverse covariant matrix \n",
    "covMatrix_J_inv = np.linalg.inv(covMatrix_J)\n",
    "covMatrix_1_inv = np.linalg.inv(covMatrix_1)\n",
    "\n",
    "def classifer_MD(point_x, point_y,verbose = False):\n",
    "    \"\"\"\n",
    "    Compute the MD of 1 point to 2 classes : class a and class b, \n",
    "    return which class this point belongs to\n",
    "    arg:\n",
    "      point_x: coordinate point on axis x\n",
    "      point_y: coordinate point on axis y\n",
    "      verbose: booleen for display of the answer (display if 'True', otherwise thw answer will not be displaced) \n",
    "    \n",
    "    \"\"\"\n",
    "    point=np.matrix([point_x,point_y])\n",
    "\n",
    "    dist_to_J = np.sqrt((point-mu_J)*covMatrix_J_inv*np.transpose(point-mu_J))\n",
    "    dist_to_1 = np.sqrt((point-mu_1)*covMatrix_1_inv*np.transpose(point-mu_1))\n",
    "\n",
    "    dist_to_J = float(dist_to_J)\n",
    "    dist_to_1 = float(dist_to_1)\n",
    "    \n",
    "    print(dist_to_J,dist_to_1)\n",
    "    if verbose == True:\n",
    "        if dist_to_J <= dist_to_1:\n",
    "            print(\"point({0},{1}) belongs to class J\".format(point_x,point_y))\n",
    "        else:\n",
    "            print(\"point({0},{1}) belongs to class 1\".format(point_x,point_y))\n",
    "\n",
    "\n",
    "def classifer_MD_find_line():\n",
    "    \"\"\"\n",
    "    Find and plot the separation curve between class a and class b\n",
    "    \"\"\"\n",
    "    mJ1=mu_J[0];\n",
    "    mJ2=mu_J[1];\n",
    "    \n",
    "    m11=mu_1[0];\n",
    "    m12=mu_1[1];\n",
    "    \n",
    "\n",
    "    J_inv11=covMatrix_J_inv[0][0]\n",
    "    J_inv12=covMatrix_J_inv[0][1]\n",
    "    J_inv21=covMatrix_J_inv[1][0]\n",
    "    J_inv22=covMatrix_J_inv[1][1]\n",
    "    \n",
    "    one_inv11=covMatrix_1_inv[0][0]\n",
    "    one_inv12=covMatrix_1_inv[0][1]\n",
    "    one_inv21=covMatrix_1_inv[1][0]\n",
    "    one_inv22=covMatrix_1_inv[1][1]\n",
    "    \n",
    "    delta = 0.001\n",
    "    xrange = arange(0, 0.5, delta)\n",
    "    yrange = arange(0, 0.1, delta)\n",
    "    x1,x2= meshgrid(xrange,yrange)\n",
    "    \n",
    "    # the following expressions from the developped expression for MD\n",
    "    Fa = np.sqrt((x1-mJ1)*((x1-mJ1)*J_inv11+(x2-mJ2)*J_inv21)+(x2-mJ2)*((x1-mJ1)*J_inv12+(x2-mJ2)*J_inv22))\n",
    "    Fb = np.sqrt((x1-m11)*((x1-m11)*one_inv11+(x2-m12)*one_inv21)+(x2-m12)*((x1-m11)*one_inv12+(x2-m12)*one_inv22))\n",
    "\n",
    "    %matplotlib inline\n",
    "    fmt1={}\n",
    "    fmt1[0]='a-b'\n",
    "    fig, ax = plt.subplots()\n",
    "    ax.scatter(J_datas[:, 0], J_datas[:, 1], label='J')\n",
    "    ax.scatter(one_datas[:, 0], one_datas[:, 1], label='1')\n",
    "    cs=ax.contour(x1, x2,Fa-Fb,[0],colors = \"black\")\n",
    "    ax.clabel(cs,cs.levels, inline=True,fmt=fmt1, fontsize=10)\n",
    "    plt.title(\"classification based on Mahalanobis distance \")\n",
    "    plt.legend()\n",
    "    plt.show()"
   ]
  },
  {
   "cell_type": "code",
   "execution_count": 7,
   "id": "posted-decision",
   "metadata": {},
   "outputs": [
    {
     "name": "stdout",
     "output_type": "stream",
     "text": [
      "269.1439743712884 81.61672587828349\n",
      "point(1,0) belongs to class 1\n"
     ]
    },
    {
     "data": {
      "image/png": "[encoded data removed]",
      "text/plain": [
       "<Figure size 432x288 with 1 Axes>"
      ]
     },
     "metadata": {
      "needs_background": "light"
     },
     "output_type": "display_data"
    }
   ],
   "source": [
    "classifer_MD(1,0,True)\n",
    "classifer_MD_find_line()"
   ]
  },
  {
   "cell_type": "code",
   "execution_count": null,
   "id": "offshore-march",
   "metadata": {},
   "outputs": [],
   "source": []
  }
 ],
 "metadata": {
  "kernelspec": {
   "display_name": "Python 3",
   "language": "python",
   "name": "python3"
  },
  "language_info": {
   "codemirror_mode": {
    "name": "ipython",
    "version": 3
   },
   "file_extension": ".py",
   "mimetype": "text/x-python",
   "name": "python",
   "nbconvert_exporter": "python",
   "pygments_lexer": "ipython3",
   "version": "3.9.1"
  }
 },
 "nbformat": 4,
 "nbformat_minor": 5
}
