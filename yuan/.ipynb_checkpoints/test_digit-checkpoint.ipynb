{
 "cells": [
  {
   "cell_type": "code",
   "execution_count": 2,
   "id": "embedded-introduction",
   "metadata": {},
   "outputs": [],
   "source": [
    "import os, sys\n",
    "import recognition_digit,card_segmentation\n",
    "import matplotlib.pyplot as plt\n",
    "import numpy as np"
   ]
  },
  {
   "cell_type": "code",
   "execution_count": null,
   "id": "acquired-world",
   "metadata": {},
   "outputs": [],
   "source": [
    "file_list = card_segmentation.walkFile(\"train_games\")\n",
    "file_pics=[]\n",
    "print(file_list)\n",
    "for file in file_list:\n",
    "    if file.endswith('.jpg'):\n",
    "        print(file)\n",
    "        image = card_segmentation.read_image(file)\n",
    "            \n",
    "            \n",
    "        mask_t = card_segmentation.mask_thre(image)\n",
    "        image = card_segmentation.mask_dealer(image)\n",
    "        mask_r = card_segmentation.mask_range(image)\n",
    "        labeled_array, num_features = ndimage.label(mask_t, structure = np.ones((3,3)))\n",
    "\n",
    "        for i in range(num_features):\n",
    "            if np.sum(mask_r[labeled_array == i+1]) < 255 * 600:\n",
    "                mask_t[labeled_array == i+1] = 0\n",
    "                \n",
    "        mask = np.uint8(mask_t)\n",
    "\n",
    "        players,centers,points_f,labels = card_segmentation.players_clustering(mask)\n",
    "        cards,left_lowers,right_lowers,right_uppers = card_segmentation.find_corners(players,centers,image)\n",
    "        for card in cards:\n",
    "            find_king(card)"
   ]
  }
 ],
 "metadata": {
  "kernelspec": {
   "display_name": "Python 3",
   "language": "python",
   "name": "python3"
  },
  "language_info": {
   "codemirror_mode": {
    "name": "ipython",
    "version": 3
   },
   "file_extension": ".py",
   "mimetype": "text/x-python",
   "name": "python",
   "nbconvert_exporter": "python",
   "pygments_lexer": "ipython3",
   "version": "3.9.1"
  }
 },
 "nbformat": 4,
 "nbformat_minor": 5
}
