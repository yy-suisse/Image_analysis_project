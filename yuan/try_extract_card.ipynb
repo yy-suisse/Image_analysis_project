{
 "cells": [
  {
   "cell_type": "markdown",
   "id": "exotic-final",
   "metadata": {},
   "source": [
    "from PIL import Image\n",
    "\n",
    "#Load the image\n",
    "img = Image.open(r'C:\\Users\\zyysu\\OneDrive\\Bureau\\MA2\\pattern\\Image_analysis_project\\train_games\\game1\\1.jpg')\n",
    "\n",
    "#Get basic details about the image\n",
    "print(img.format)\n",
    "print(img.mode)\n",
    "print(img.size)\n",
    "\n"
   ]
  },
  {
   "cell_type": "code",
   "execution_count": 1,
   "id": "convinced-refrigerator",
   "metadata": {},
   "outputs": [],
   "source": [
    "import cv2 \n",
    "import matplotlib.pyplot as plt\n",
    "import numpy as np"
   ]
  },
  {
   "cell_type": "markdown",
   "id": "effective-external",
   "metadata": {},
   "source": [
    "# color detection\n",
    "tune HSV"
   ]
  },
  {
   "cell_type": "code",
   "execution_count": null,
   "id": "applied-moscow",
   "metadata": {},
   "outputs": [],
   "source": [
    "import cv2\n",
    "import numpy as np\n",
    "import time\n",
    "import skimage.io\n",
    "\n",
    "# A required callback method that goes into the trackbar function.\n",
    "def nothing(x):\n",
    "    pass\n",
    "\n",
    "# Initializing the webcam feed.\n",
    "\n",
    "# Create a window named trackbars.\n",
    "cv2.namedWindow(\"Trackbars\")\n",
    "cv2.resizeWindow('image', 90, 90) \n",
    "# Now create 6 trackbars that will control the lower and upper range of \n",
    "# H,S and V channels. The Arguments are like this: Name of trackbar, \n",
    "# window name, range,callback function. For Hue the range is 0-179 and\n",
    "# for S,V its 0-255.\n",
    "cv2.createTrackbar(\"L - H\", \"Trackbars\", 0, 179, nothing)\n",
    "cv2.createTrackbar(\"L - S\", \"Trackbars\", 0, 255, nothing)\n",
    "cv2.createTrackbar(\"L - V\", \"Trackbars\", 0, 255, nothing)\n",
    "cv2.createTrackbar(\"U - H\", \"Trackbars\", 179, 179, nothing)\n",
    "cv2.createTrackbar(\"U - S\", \"Trackbars\", 255, 255, nothing)\n",
    "cv2.createTrackbar(\"U - V\", \"Trackbars\", 255, 255, nothing)\n",
    " \n",
    "while True:\n",
    "    \n",
    "\n",
    "    frame = skimage.io.imread( \"train_games/game1/1.jpg\")#train_games\\game1\\1.jpg\n",
    "    # Convert the BGR image to HSV image.\n",
    "    hsv = cv2.cvtColor(frame, cv2.COLOR_BGR2HSV)\n",
    "    \n",
    "    # Get the new values of the trackbar in real time as the user changes \n",
    "    # them\n",
    "    l_h = cv2.getTrackbarPos(\"L - H\", \"Trackbars\")\n",
    "    l_s = cv2.getTrackbarPos(\"L - S\", \"Trackbars\")\n",
    "    l_v = cv2.getTrackbarPos(\"L - V\", \"Trackbars\")\n",
    "    u_h = cv2.getTrackbarPos(\"U - H\", \"Trackbars\")\n",
    "    u_s = cv2.getTrackbarPos(\"U - S\", \"Trackbars\")\n",
    "    u_v = cv2.getTrackbarPos(\"U - V\", \"Trackbars\")\n",
    " \n",
    "    # Set the lower and upper HSV range according to the value selected\n",
    "    # by the trackbar\n",
    "    lower_range = np.array([l_h, l_s, l_v])\n",
    "    upper_range = np.array([u_h, u_s, u_v])\n",
    "    \n",
    "    # Filter the image and get the binary mask, where white represents \n",
    "    # your target color\n",
    "    mask = cv2.inRange(hsv, lower_range, upper_range)\n",
    " \n",
    "    # You can also visualize the real part of the target color (Optional)\n",
    "    res = cv2.bitwise_and(frame, frame, mask=mask)\n",
    "    \n",
    "    # Converting the binary mask to 3 channel image, this is just so \n",
    "    # we can stack it with the others\n",
    "    mask_3 = cv2.cvtColor(mask, cv2.COLOR_GRAY2BGR)\n",
    "    \n",
    "    # stack the mask, orginal frame and the filtered result\n",
    "    stacked = np.hstack((mask_3,frame,res))\n",
    "    \n",
    "    # Show this stacked frame at 40% of the size.\n",
    "    cv2.imshow('Trackbars',cv2.resize(stacked,None,fx=0.4,fy=0.4))\n",
    "    \n",
    "    # If the user presses ESC then exit the program\n",
    "    key = cv2.waitKey(1)\n",
    "    if key == 27:\n",
    "        break\n",
    "    \n",
    "    # If the user presses `s` then print this array.\n",
    "    if key == ord('s'):\n",
    "        \n",
    "        thearray = [[l_h,l_s,l_v],[u_h, u_s, u_v]]\n",
    "        print(thearray)\n",
    "        \n",
    "        # Also save this array as penval.npy\n",
    "        np.save('hsv_value',thearray)\n",
    "        break\n",
    "    \n",
    "# Release the camera & destroy the windows.    \n",
    "cv2.destroyAllWindows()"
   ]
  },
  {
   "cell_type": "markdown",
   "id": "express-apparatus",
   "metadata": {},
   "source": [
    "# 3 channels\n",
    "path = r\"..\\train_games\\game1\\1.jpg\"\n",
    "colormap1 = cv2.imread(path)\n",
    "colormap1=cv2.cvtColor(colormap1, cv2.COLOR_BGR2RGB)\n",
    "plt.imshow(colormap1)\n",
    "chans=cv2.split(colormap1)\n",
    "colors=(\"b\", \"g\", \"r\")\n",
    "plt.figure()\n",
    "plt.title(\"Color histogram\")\n",
    "plt.xlabel(\"Bins\")\n",
    "plt.ylabel(\"Number of pixels\")\n",
    "for (chan, c) in zip(chans, colors):\n",
    "    hist=cv2.calcHist([chan], [0], None, [256], [0,256])\n",
    "    print()\n",
    "    plt.plot(hist, color=c)\n",
    "    plt.xlim([0,256])\n",
    "    plt.show()\n",
    "\n"
   ]
  },
  {
   "cell_type": "markdown",
   "id": "synthetic-phenomenon",
   "metadata": {},
   "source": [
    "# subsample green "
   ]
  },
  {
   "cell_type": "code",
   "execution_count": 2,
   "id": "steady-match",
   "metadata": {},
   "outputs": [
    {
     "data": {
      "image/png": "[encoded data removed]",
      "text/plain": [
       "<Figure size 432x288 with 1 Axes>"
      ]
     },
     "metadata": {
      "needs_background": "light"
     },
     "output_type": "display_data"
    },
    {
     "name": "stdout",
     "output_type": "stream",
     "text": [
      "[[[ 51  92  34]\n",
      "  [ 53  94  36]\n",
      "  [ 52  93  35]\n",
      "  ...\n",
      "  [ 54  93  38]\n",
      "  [ 53  94  38]\n",
      "  [ 52  93  37]]\n",
      "\n",
      " [[ 51  92  34]\n",
      "  [ 53  94  36]\n",
      "  [ 54  95  37]\n",
      "  ...\n",
      "  [ 53  92  37]\n",
      "  [ 51  92  36]\n",
      "  [ 50  91  35]]\n",
      "\n",
      " [[ 54  95  39]\n",
      "  [ 54  95  39]\n",
      "  [ 54  95  37]\n",
      "  ...\n",
      "  [ 54  93  38]\n",
      "  [ 52  93  37]\n",
      "  [ 52  93  37]]\n",
      "\n",
      " ...\n",
      "\n",
      " [[ 50 100  41]\n",
      "  [ 50 100  41]\n",
      "  [ 51 101  42]\n",
      "  ...\n",
      "  [ 53 104  45]\n",
      "  [ 52 103  44]\n",
      "  [ 51 102  43]]\n",
      "\n",
      " [[ 50 100  41]\n",
      "  [ 50 100  41]\n",
      "  [ 51 101  42]\n",
      "  ...\n",
      "  [ 53 104  45]\n",
      "  [ 51 102  43]\n",
      "  [ 50 101  42]]\n",
      "\n",
      " [[ 50 100  41]\n",
      "  [ 50 100  41]\n",
      "  [ 51 101  42]\n",
      "  ...\n",
      "  [ 52 103  44]\n",
      "  [ 52 103  44]\n",
      "  [ 51 102  43]]]\n"
     ]
    },
    {
     "data": {
      "text/plain": [
       "<matplotlib.image.AxesImage at 0x1a3194db3d0>"
      ]
     },
     "execution_count": 2,
     "metadata": {},
     "output_type": "execute_result"
    },
    {
     "data": {
      "image/png": "[encoded data removed]",
      "text/plain": [
       "<Figure size 432x288 with 1 Axes>"
      ]
     },
     "metadata": {
      "needs_background": "light"
     },
     "output_type": "display_data"
    }
   ],
   "source": [
    "path = r\"..\\train_games\\game1\\1.jpg\"\n",
    "img = cv2.imread(path)\n",
    "img=cv2.cvtColor(img, cv2.COLOR_BGR2RGB)\n",
    "# create a mask\n",
    "mask1 = np.zeros(img.shape[:2], np.uint8)\n",
    "mask2 = np.zeros(img.shape[:2], np.uint8)\n",
    "mask3 = np.zeros(img.shape[:2], np.uint8)\n",
    "mask4 = np.zeros(img.shape[:2], np.uint8)\n",
    "mask_d = np.zeros(img.shape[:2], np.uint8)\n",
    "mask1[3000:4000, 1300:2100] = 255\n",
    "mask2[1800:2500, 2400:4000] = 255\n",
    "mask3[200:1300, 1200:2400] = 255\n",
    "mask4[1800:2500,300:1300] = 255\n",
    "mask_d[3300:4000, 600:1250] = 255\n",
    "mask =cv2.bitwise_or(mask1, mask2)\n",
    "mask =cv2.bitwise_or(mask, mask3)\n",
    "mask =cv2.bitwise_or(mask, mask4)\n",
    "mask =cv2.bitwise_or(mask, mask_d)\n",
    "masked_img = cv2.bitwise_and(img,img,mask = mask)\n",
    "plt.imshow(masked_img)\n",
    "plt.show()\n",
    "\n",
    "green = masked_img[3600:3800, 650:700]\n",
    "print(green)\n",
    "plt.imshow(green)"
   ]
  },
  {
   "cell_type": "markdown",
   "id": "senior-opposition",
   "metadata": {},
   "source": [
    "# try to filter all green binary"
   ]
  },
  {
   "cell_type": "code",
   "execution_count": 3,
   "id": "proud-vintage",
   "metadata": {},
   "outputs": [
    {
     "data": {
      "text/plain": [
       "-1"
      ]
     },
     "execution_count": 3,
     "metadata": {},
     "output_type": "execute_result"
    }
   ],
   "source": [
    "path = r\"..\\train_games\\game1\\1.jpg\"\n",
    "img = cv2.imread(path)\n",
    "#img = cv2.cvtColor(img, cv2.COLOR_BGR2RGB)\n",
    "\n",
    "lower_green = np.array([50, 90, 30],dtype = \"uint8\")\n",
    "upper_green = np.array([60, 110, 50],dtype = \"uint8\")\n",
    "\n",
    "mask = cv2.inRange(img, lower_green, upper_green)\n",
    "result = cv2.bitwise_and(img, img, mask = mask)\n",
    "\n",
    "cv2.imshow('img', img)\n",
    "cv2.imshow('mask', mask)\n",
    "cv2.imshow('result', result)\n",
    "cv2.imshow(\"images\", np.hstack([img, result]))\n",
    "cv2.waitKey(0)\n"
   ]
  },
  {
   "cell_type": "code",
   "execution_count": null,
   "id": "potential-manual",
   "metadata": {},
   "outputs": [],
   "source": []
  }
 ],
 "metadata": {
  "kernelspec": {
   "display_name": "Python 3",
   "language": "python",
   "name": "python3"
  },
  "language_info": {
   "codemirror_mode": {
    "name": "ipython",
    "version": 3
   },
   "file_extension": ".py",
   "mimetype": "text/x-python",
   "name": "python",
   "nbconvert_exporter": "python",
   "pygments_lexer": "ipython3",
   "version": "3.9.1"
  }
 },
 "nbformat": 4,
 "nbformat_minor": 5
}
