{
 "cells": [
  {
   "cell_type": "code",
   "execution_count": 1,
   "id": "happy-morrison",
   "metadata": {
    "scrolled": true
   },
   "outputs": [],
   "source": [
    "import os, sys\n",
    "import lib, find_suite\n",
    "import matplotlib.pyplot as plt\n",
    "import numpy as np"
   ]
  },
  {
   "cell_type": "code",
   "execution_count": 2,
   "id": "limiting-memorial",
   "metadata": {},
   "outputs": [],
   "source": [
    "from skimage.measure import label\n",
    "from skimage.filters import threshold_otsu\n",
    "from skimage.color import rgb2gray\n",
    "from skimage import data\n",
    "import cv2 \n",
    "from skimage.feature import match_template\n",
    "from skimage import restoration\n",
    "from scipy import ndimage\n"
   ]
  },
  {
   "cell_type": "markdown",
   "id": "sustainable-austria",
   "metadata": {},
   "source": [
    "# extract suite model \n",
    "1. load template model\n",
    "2. connected component\n",
    "3. take labels of location [60,60]\n",
    "4. calculate max min to scale"
   ]
  },
  {
   "cell_type": "code",
   "execution_count": 3,
   "id": "printable-course",
   "metadata": {
    "scrolled": false
   },
   "outputs": [
    {
     "name": "stdout",
     "output_type": "stream",
     "text": [
      "../train_games/game1\\1.jpg\n"
     ]
    },
    {
     "name": "stderr",
     "output_type": "stream",
     "text": [
      "C:\\Users\\zyysu\\AppData\\Local\\Programs\\Python\\Python39\\lib\\site-packages\\sklearn\\cluster\\_kmeans.py:984: RuntimeWarning: Explicit initial center position passed: performing only one init in KMeans instead of n_init=10.\n",
      "  self._check_params(X)\n"
     ]
    },
    {
     "name": "stdout",
     "output_type": "stream",
     "text": [
      "player:  1\n",
      "matching suite:  spade\n",
      "player:  2\n",
      "matching suite:  heart\n",
      "player:  3\n",
      "matching suite:  heart\n",
      "player:  4\n",
      "matching suite:  spade\n",
      "../train_games/game1\\10.jpg\n"
     ]
    },
    {
     "name": "stderr",
     "output_type": "stream",
     "text": [
      "C:\\Users\\zyysu\\AppData\\Local\\Programs\\Python\\Python39\\lib\\site-packages\\sklearn\\cluster\\_kmeans.py:984: RuntimeWarning: Explicit initial center position passed: performing only one init in KMeans instead of n_init=10.\n",
      "  self._check_params(X)\n"
     ]
    },
    {
     "name": "stdout",
     "output_type": "stream",
     "text": [
      "player:  1\n",
      "matching suite:  heart\n",
      "player:  2\n",
      "matching suite:  club\n",
      "player:  3\n",
      "matching suite:  diamond\n",
      "player:  4\n",
      "matching suite:  heart\n",
      "../train_games/game1\\11.jpg\n"
     ]
    },
    {
     "name": "stderr",
     "output_type": "stream",
     "text": [
      "C:\\Users\\zyysu\\AppData\\Local\\Programs\\Python\\Python39\\lib\\site-packages\\sklearn\\cluster\\_kmeans.py:984: RuntimeWarning: Explicit initial center position passed: performing only one init in KMeans instead of n_init=10.\n",
      "  self._check_params(X)\n"
     ]
    },
    {
     "name": "stdout",
     "output_type": "stream",
     "text": [
      "player:  1\n",
      "matching suite:  heart\n",
      "player:  2\n",
      "matching suite:  diamond\n",
      "player:  3\n",
      "matching suite:  club\n",
      "player:  4\n",
      "matching suite:  diamond\n",
      "../train_games/game1\\12.jpg\n"
     ]
    },
    {
     "name": "stderr",
     "output_type": "stream",
     "text": [
      "C:\\Users\\zyysu\\AppData\\Local\\Programs\\Python\\Python39\\lib\\site-packages\\sklearn\\cluster\\_kmeans.py:984: RuntimeWarning: Explicit initial center position passed: performing only one init in KMeans instead of n_init=10.\n",
      "  self._check_params(X)\n"
     ]
    },
    {
     "name": "stdout",
     "output_type": "stream",
     "text": [
      "player:  1\n",
      "matching suite:  club\n",
      "player:  2\n",
      "matching suite:  diamond\n",
      "player:  3\n",
      "matching suite:  heart\n",
      "player:  4\n",
      "matching suite:  heart\n",
      "../train_games/game1\\13.jpg\n"
     ]
    },
    {
     "name": "stderr",
     "output_type": "stream",
     "text": [
      "C:\\Users\\zyysu\\AppData\\Local\\Programs\\Python\\Python39\\lib\\site-packages\\sklearn\\cluster\\_kmeans.py:984: RuntimeWarning: Explicit initial center position passed: performing only one init in KMeans instead of n_init=10.\n",
      "  self._check_params(X)\n"
     ]
    },
    {
     "name": "stdout",
     "output_type": "stream",
     "text": [
      "player:  1\n",
      "matching suite:  club\n",
      "player:  2\n",
      "matching suite:  club\n",
      "player:  3\n",
      "matching suite:  heart\n",
      "player:  4\n",
      "matching suite:  spade\n",
      "../train_games/game1\\2.jpg\n"
     ]
    },
    {
     "name": "stderr",
     "output_type": "stream",
     "text": [
      "C:\\Users\\zyysu\\AppData\\Local\\Programs\\Python\\Python39\\lib\\site-packages\\sklearn\\cluster\\_kmeans.py:984: RuntimeWarning: Explicit initial center position passed: performing only one init in KMeans instead of n_init=10.\n",
      "  self._check_params(X)\n"
     ]
    },
    {
     "name": "stdout",
     "output_type": "stream",
     "text": [
      "player:  1\n",
      "matching suite:  spade\n",
      "player:  2\n",
      "matching suite:  spade\n",
      "player:  3\n",
      "matching suite:  club\n",
      "player:  4\n",
      "matching suite:  diamond\n",
      "../train_games/game1\\3.jpg\n"
     ]
    },
    {
     "name": "stderr",
     "output_type": "stream",
     "text": [
      "C:\\Users\\zyysu\\AppData\\Local\\Programs\\Python\\Python39\\lib\\site-packages\\sklearn\\cluster\\_kmeans.py:984: RuntimeWarning: Explicit initial center position passed: performing only one init in KMeans instead of n_init=10.\n",
      "  self._check_params(X)\n"
     ]
    },
    {
     "name": "stdout",
     "output_type": "stream",
     "text": [
      "player:  1\n",
      "matching suite:  diamond\n",
      "player:  2\n",
      "matching suite:  heart\n",
      "player:  3\n",
      "matching suite:  club\n",
      "player:  4\n",
      "matching suite:  diamond\n",
      "../train_games/game1\\4.jpg\n"
     ]
    },
    {
     "name": "stderr",
     "output_type": "stream",
     "text": [
      "C:\\Users\\zyysu\\AppData\\Local\\Programs\\Python\\Python39\\lib\\site-packages\\sklearn\\cluster\\_kmeans.py:984: RuntimeWarning: Explicit initial center position passed: performing only one init in KMeans instead of n_init=10.\n",
      "  self._check_params(X)\n"
     ]
    },
    {
     "name": "stdout",
     "output_type": "stream",
     "text": [
      "player:  1\n",
      "matching suite:  spade\n",
      "player:  2\n",
      "matching suite:  diamond\n",
      "player:  3\n",
      "matching suite:  spade\n",
      "player:  4\n",
      "matching suite:  club\n",
      "../train_games/game1\\5.jpg\n"
     ]
    },
    {
     "name": "stderr",
     "output_type": "stream",
     "text": [
      "C:\\Users\\zyysu\\AppData\\Local\\Programs\\Python\\Python39\\lib\\site-packages\\sklearn\\cluster\\_kmeans.py:984: RuntimeWarning: Explicit initial center position passed: performing only one init in KMeans instead of n_init=10.\n",
      "  self._check_params(X)\n"
     ]
    },
    {
     "name": "stdout",
     "output_type": "stream",
     "text": [
      "player:  1\n",
      "matching suite:  diamond\n",
      "player:  2\n",
      "matching suite:  spade\n",
      "player:  3\n",
      "matching suite:  club\n",
      "player:  4\n",
      "matching suite:  club\n",
      "../train_games/game1\\6.jpg\n"
     ]
    },
    {
     "name": "stderr",
     "output_type": "stream",
     "text": [
      "C:\\Users\\zyysu\\AppData\\Local\\Programs\\Python\\Python39\\lib\\site-packages\\sklearn\\cluster\\_kmeans.py:984: RuntimeWarning: Explicit initial center position passed: performing only one init in KMeans instead of n_init=10.\n",
      "  self._check_params(X)\n"
     ]
    },
    {
     "name": "stdout",
     "output_type": "stream",
     "text": [
      "player:  1\n",
      "matching suite:  spade\n",
      "player:  2\n",
      "matching suite:  diamond\n",
      "player:  3\n",
      "matching suite:  spade\n",
      "player:  4\n",
      "matching suite:  spade\n",
      "../train_games/game1\\7.jpg\n"
     ]
    },
    {
     "name": "stderr",
     "output_type": "stream",
     "text": [
      "C:\\Users\\zyysu\\AppData\\Local\\Programs\\Python\\Python39\\lib\\site-packages\\sklearn\\cluster\\_kmeans.py:984: RuntimeWarning: Explicit initial center position passed: performing only one init in KMeans instead of n_init=10.\n",
      "  self._check_params(X)\n"
     ]
    },
    {
     "name": "stdout",
     "output_type": "stream",
     "text": [
      "player:  1\n",
      "matching suite:  diamond\n",
      "player:  2\n",
      "matching suite:  heart\n",
      "player:  3\n",
      "matching suite:  diamond\n",
      "player:  4\n",
      "matching suite:  heart\n",
      "../train_games/game1\\8.jpg\n"
     ]
    },
    {
     "name": "stderr",
     "output_type": "stream",
     "text": [
      "C:\\Users\\zyysu\\AppData\\Local\\Programs\\Python\\Python39\\lib\\site-packages\\sklearn\\cluster\\_kmeans.py:984: RuntimeWarning: Explicit initial center position passed: performing only one init in KMeans instead of n_init=10.\n",
      "  self._check_params(X)\n"
     ]
    },
    {
     "name": "stdout",
     "output_type": "stream",
     "text": [
      "player:  1\n",
      "matching suite:  club\n",
      "player:  2\n",
      "matching suite:  club\n",
      "player:  3\n",
      "matching suite:  spade\n",
      "player:  4\n",
      "matching suite:  club\n",
      "../train_games/game1\\9.jpg\n"
     ]
    },
    {
     "name": "stderr",
     "output_type": "stream",
     "text": [
      "C:\\Users\\zyysu\\AppData\\Local\\Programs\\Python\\Python39\\lib\\site-packages\\sklearn\\cluster\\_kmeans.py:984: RuntimeWarning: Explicit initial center position passed: performing only one init in KMeans instead of n_init=10.\n",
      "  self._check_params(X)\n"
     ]
    },
    {
     "name": "stdout",
     "output_type": "stream",
     "text": [
      "player:  1\n",
      "matching suite:  diamond\n",
      "player:  2\n",
      "matching suite:  heart\n",
      "player:  3\n",
      "matching suite:  heart\n",
      "player:  4\n",
      "matching suite:  spade\n"
     ]
    }
   ],
   "source": [
    "# all codes are here\n",
    "template_dict = {}\n",
    "template_dict = find_suite.load_template_suites('templates')\n",
    "\n",
    "\n",
    "file_list = lib.walkFile(\"../train_games/game1\")\n",
    "for file in file_list:\n",
    "    if file.endswith('.jpg'):\n",
    "        print(file)\n",
    "        find_suite.show_suites_for_all_players(file,template_dict)\n"
   ]
  },
  {
   "cell_type": "code",
   "execution_count": null,
   "id": "coral-export",
   "metadata": {},
   "outputs": [],
   "source": []
  },
  {
   "cell_type": "code",
   "execution_count": null,
   "id": "bulgarian-sharp",
   "metadata": {},
   "outputs": [],
   "source": []
  },
  {
   "cell_type": "code",
   "execution_count": null,
   "id": "voluntary-handy",
   "metadata": {},
   "outputs": [],
   "source": []
  },
  {
   "cell_type": "code",
   "execution_count": null,
   "id": "expanded-constant",
   "metadata": {},
   "outputs": [],
   "source": []
  },
  {
   "cell_type": "markdown",
   "id": "sound-pastor",
   "metadata": {},
   "source": [
    "def show_suites_for_all_players(file):\n",
    "    \n",
    "    image = lib.read_image(file)\n",
    "    image_dealer = lib.mask_dealer(image)\n",
    "    extracted = lib.mask_for_extract_cards(image_dealer)\n",
    "    players,centers,points_f,labels = lib.players_clustering(extracted)\n",
    "    cards,left_lowers,right_lowers,right_uppers = lib.find_corners(players,centers,image)\n",
    "\n",
    "    for i in range(4):\n",
    "        plt.subplot(1,4,i+1)\n",
    "        plt.imshow(cards[i])\n",
    "        plt.title('player '+ str(i+1) )\n",
    "    plt.show()\n",
    "\n",
    "    for i in range(4):\n",
    "        cropped_suite,xmin,xmax,ymin,ymax = find_suite.crop_suite(cards[i])\n",
    "        color = find_suite.detect_color(xmin,xmax,ymin,ymax,cards[i])\n",
    "        res = find_suite.affin_transform_suites(cropped_suite,xmin,xmax,ymin,ymax) # affin transform with h=63, w=46\n",
    "        bin_res = find_suite.binary_transform(res)\n",
    "\n",
    "        best_score = 0.0\n",
    "        best_index = None\n",
    "        for j in range(4):\n",
    "            result = match_template(bin_res, template_dict[suite_tab[j]])\n",
    "            result = abs(result)\n",
    "\n",
    "            if result > best_score:\n",
    "                best_score = result\n",
    "                best_index = j\n",
    "        print(\"player: \", i+1)\n",
    "        print(\"matching suite: \", suite_tab[best_index])\n",
    "        #plt.imshow(bin_res)\n",
    "    #plt.show()"
   ]
  },
  {
   "cell_type": "code",
   "execution_count": 3,
   "id": "convenient-cannon",
   "metadata": {},
   "outputs": [],
   "source": [
    "def show_suites_for_all_players(file):\n",
    "    \n",
    "    image = card_segmentation.read_image(file)\n",
    "    \n",
    "    \n",
    "    mask_t = card_segmentation.mask_thre(image)\n",
    "    image = card_segmentation.mask_dealer(image)\n",
    "    mask_r = card_segmentation.mask_range(image)\n",
    "    labeled_array, num_features = ndimage.label(mask_t, structure = np.ones((3,3)))\n",
    "    \n",
    "    for i in range(num_features):\n",
    "        if np.sum(mask_r[labeled_array == i+1]) < 255 * 600:\n",
    "            mask_t[labeled_array == i+1] = 0\n",
    "            \n",
    "    mask = np.uint8(mask_t)\n",
    "    \n",
    "    players,centers,points_f,labels = card_segmentation.players_clustering(mask)\n",
    "    cards,left_lowers,right_lowers,right_uppers = card_segmentation.find_corners(players,centers,image)\n",
    "    \"\"\"\n",
    "    for i in range(4):\n",
    "        plt.subplot(1,4,i+1)\n",
    "        plt.imshow(cards[i])\n",
    "        plt.title('player '+ str(i+1) )\n",
    "        plt.show()\n",
    "    \"\"\" \n",
    "\n",
    "    for i in range(4):\n",
    "        cropped_suite,xmin,xmax,ymin,ymax = find_suite.crop_suite(cards[i])\n",
    "        \n",
    "        res = find_suite.affin_transform_suites(cropped_suite,xmin,xmax,ymin,ymax) # affin transform with h=63, w=46\n",
    "        color = find_suite.detect_color(xmin,xmax,ymin,ymax,cards[i])\n",
    "        bin_res = find_suite.binary_transform(res)\n",
    "\n",
    "        best_score = 0.0\n",
    "        best_suite = None\n",
    "        \n",
    "        possible_suites = []\n",
    "        if color == 'red':\n",
    "            possible_suites = ['diamond', 'heart']\n",
    "        if color == 'black':\n",
    "            possible_suites = ['spade', 'club']\n",
    "        print(color)\n",
    "        for j in possible_suites:\n",
    "            result = match_template(bin_res, template_dict[j])\n",
    "            result = abs(result)\n",
    "\n",
    "            if result > best_score:\n",
    "                best_score = result\n",
    "                best_suite = j\n",
    "        print(\"player: \", i+1)\n",
    "        print(\"matching suite: \", best_suite)\n",
    "        #plt.imshow(bin_res)\n",
    "    #plt.show()"
   ]
  },
  {
   "cell_type": "code",
   "execution_count": 5,
   "id": "corresponding-implementation",
   "metadata": {
    "scrolled": true
   },
   "outputs": [
    {
     "name": "stdout",
     "output_type": "stream",
     "text": [
      "../train_games\\game1\\1.jpg\n"
     ]
    },
    {
     "name": "stderr",
     "output_type": "stream",
     "text": [
      "C:\\Users\\zyysu\\AppData\\Local\\Programs\\Python\\Python39\\lib\\site-packages\\sklearn\\cluster\\_kmeans.py:984: RuntimeWarning: Explicit initial center position passed: performing only one init in KMeans instead of n_init=10.\n",
      "  self._check_params(X)\n"
     ]
    },
    {
     "name": "stdout",
     "output_type": "stream",
     "text": [
      "player: player1\n",
      "left lower: [1456 3844]\n",
      "left upper: [1465 3101]\n",
      "right lower: [1950 3846]\n",
      "right upper: [1956 3103]\n",
      "player: player2\n",
      "left lower: [2455 2384]\n",
      "left upper: [2445 1883]\n",
      "right lower: [3194 2377]\n",
      "right upper: [3204 1867]\n",
      "player: player3\n",
      "left lower: [1551 1115]\n",
      "left upper: [1585  360]\n",
      "right lower: [2081 1128]\n",
      "right upper: [2098  382]\n",
      "player: player4\n",
      "left lower: [ 353 2438]\n",
      "left upper: [ 388 1934]\n",
      "right lower: [1131 2468]\n",
      "right upper: [1146 1977]\n",
      "[11 13 12]\n"
     ]
    },
    {
     "ename": "IndexError",
     "evalue": "index 67 is out of bounds for axis 2 with size 3",
     "output_type": "error",
     "traceback": [
      "\u001b[1;31m---------------------------------------------------------------------------\u001b[0m",
      "\u001b[1;31mIndexError\u001b[0m                                Traceback (most recent call last)",
      "\u001b[1;32m<ipython-input-5-a2fb0e01b0f6>\u001b[0m in \u001b[0;36m<module>\u001b[1;34m\u001b[0m\n\u001b[0;32m      4\u001b[0m     \u001b[1;32mif\u001b[0m \u001b[0mfile\u001b[0m\u001b[1;33m.\u001b[0m\u001b[0mendswith\u001b[0m\u001b[1;33m(\u001b[0m\u001b[1;34m'.jpg'\u001b[0m\u001b[1;33m)\u001b[0m\u001b[1;33m:\u001b[0m\u001b[1;33m\u001b[0m\u001b[1;33m\u001b[0m\u001b[0m\n\u001b[0;32m      5\u001b[0m         \u001b[0mprint\u001b[0m\u001b[1;33m(\u001b[0m\u001b[0mfile\u001b[0m\u001b[1;33m)\u001b[0m\u001b[1;33m\u001b[0m\u001b[1;33m\u001b[0m\u001b[0m\n\u001b[1;32m----> 6\u001b[1;33m         \u001b[0mshow_suites_for_all_players\u001b[0m\u001b[1;33m(\u001b[0m\u001b[0mfile\u001b[0m\u001b[1;33m)\u001b[0m\u001b[1;33m\u001b[0m\u001b[1;33m\u001b[0m\u001b[0m\n\u001b[0m",
      "\u001b[1;32m<ipython-input-3-042f22887411>\u001b[0m in \u001b[0;36mshow_suites_for_all_players\u001b[1;34m(file)\u001b[0m\n\u001b[0;32m     29\u001b[0m \u001b[1;33m\u001b[0m\u001b[0m\n\u001b[0;32m     30\u001b[0m         \u001b[0mres\u001b[0m \u001b[1;33m=\u001b[0m \u001b[0mfind_suite\u001b[0m\u001b[1;33m.\u001b[0m\u001b[0maffin_transform_suites\u001b[0m\u001b[1;33m(\u001b[0m\u001b[0mcropped_suite\u001b[0m\u001b[1;33m,\u001b[0m\u001b[0mxmin\u001b[0m\u001b[1;33m,\u001b[0m\u001b[0mxmax\u001b[0m\u001b[1;33m,\u001b[0m\u001b[0mymin\u001b[0m\u001b[1;33m,\u001b[0m\u001b[0mymax\u001b[0m\u001b[1;33m)\u001b[0m \u001b[1;31m# affin transform with h=63, w=46\u001b[0m\u001b[1;33m\u001b[0m\u001b[1;33m\u001b[0m\u001b[0m\n\u001b[1;32m---> 31\u001b[1;33m         \u001b[0mcolor\u001b[0m \u001b[1;33m=\u001b[0m \u001b[0mfind_suite\u001b[0m\u001b[1;33m.\u001b[0m\u001b[0mdetect_color\u001b[0m\u001b[1;33m(\u001b[0m\u001b[0mxmin\u001b[0m\u001b[1;33m,\u001b[0m\u001b[0mxmax\u001b[0m\u001b[1;33m,\u001b[0m\u001b[0mymin\u001b[0m\u001b[1;33m,\u001b[0m\u001b[0mymax\u001b[0m\u001b[1;33m,\u001b[0m\u001b[0mcards\u001b[0m\u001b[1;33m[\u001b[0m\u001b[0mi\u001b[0m\u001b[1;33m]\u001b[0m\u001b[1;33m)\u001b[0m\u001b[1;33m\u001b[0m\u001b[1;33m\u001b[0m\u001b[0m\n\u001b[0m\u001b[0;32m     32\u001b[0m         \u001b[0mbin_res\u001b[0m \u001b[1;33m=\u001b[0m \u001b[0mfind_suite\u001b[0m\u001b[1;33m.\u001b[0m\u001b[0mbinary_transform\u001b[0m\u001b[1;33m(\u001b[0m\u001b[0mres\u001b[0m\u001b[1;33m)\u001b[0m\u001b[1;33m\u001b[0m\u001b[1;33m\u001b[0m\u001b[0m\n\u001b[0;32m     33\u001b[0m \u001b[1;33m\u001b[0m\u001b[0m\n",
      "\u001b[1;32m~\\OneDrive\\Bureau\\MA2\\pattern\\Image_analysis_project\\yuan\\find_suite.py\u001b[0m in \u001b[0;36mdetect_color\u001b[1;34m(xmin, xmax, ymin, ymax, card)\u001b[0m\n\u001b[0;32m     70\u001b[0m     \u001b[0mcolor\u001b[0m \u001b[1;33m=\u001b[0m \u001b[1;32mNone\u001b[0m\u001b[1;33m\u001b[0m\u001b[1;33m\u001b[0m\u001b[0m\n\u001b[0;32m     71\u001b[0m     \u001b[0mprint\u001b[0m\u001b[1;33m(\u001b[0m\u001b[0mcard\u001b[0m\u001b[1;33m[\u001b[0m\u001b[0mx_mean\u001b[0m\u001b[1;33m,\u001b[0m\u001b[0my_mean\u001b[0m\u001b[1;33m]\u001b[0m\u001b[1;33m)\u001b[0m\u001b[1;33m\u001b[0m\u001b[1;33m\u001b[0m\u001b[0m\n\u001b[1;32m---> 72\u001b[1;33m     \u001b[0mplt\u001b[0m\u001b[1;33m.\u001b[0m\u001b[0mimshow\u001b[0m\u001b[1;33m(\u001b[0m\u001b[0mcard\u001b[0m\u001b[1;33m[\u001b[0m\u001b[0mxmin\u001b[0m\u001b[1;33m:\u001b[0m\u001b[0mxmax\u001b[0m\u001b[1;33m,\u001b[0m\u001b[0mymin\u001b[0m\u001b[1;33m,\u001b[0m\u001b[0mymax\u001b[0m\u001b[1;33m]\u001b[0m\u001b[1;33m)\u001b[0m\u001b[1;33m\u001b[0m\u001b[1;33m\u001b[0m\u001b[0m\n\u001b[0m\u001b[0;32m     73\u001b[0m     \u001b[1;32mif\u001b[0m \u001b[0mall\u001b[0m\u001b[1;33m(\u001b[0m\u001b[0mcard\u001b[0m\u001b[1;33m[\u001b[0m\u001b[0mx_mean\u001b[0m\u001b[1;33m,\u001b[0m\u001b[0my_mean\u001b[0m\u001b[1;33m]\u001b[0m\u001b[1;33m>\u001b[0m\u001b[1;33m[\u001b[0m\u001b[1;36m160\u001b[0m\u001b[1;33m,\u001b[0m\u001b[1;36m40\u001b[0m\u001b[1;33m,\u001b[0m\u001b[1;36m40\u001b[0m\u001b[1;33m]\u001b[0m\u001b[1;33m)\u001b[0m \u001b[1;32mand\u001b[0m \u001b[0mall\u001b[0m\u001b[1;33m(\u001b[0m\u001b[0mcard\u001b[0m\u001b[1;33m[\u001b[0m\u001b[0mx_mean\u001b[0m\u001b[1;33m,\u001b[0m\u001b[0my_mean\u001b[0m\u001b[1;33m]\u001b[0m\u001b[1;33m<\u001b[0m\u001b[1;33m[\u001b[0m\u001b[1;36m190\u001b[0m\u001b[1;33m,\u001b[0m\u001b[1;36m60\u001b[0m\u001b[1;33m,\u001b[0m\u001b[1;36m60\u001b[0m\u001b[1;33m]\u001b[0m\u001b[1;33m)\u001b[0m \u001b[1;33m:\u001b[0m\u001b[1;33m\u001b[0m\u001b[1;33m\u001b[0m\u001b[0m\n\u001b[0;32m     74\u001b[0m         \u001b[1;31m#print(\"red\")\u001b[0m\u001b[1;33m\u001b[0m\u001b[1;33m\u001b[0m\u001b[1;33m\u001b[0m\u001b[0m\n",
      "\u001b[1;31mIndexError\u001b[0m: index 67 is out of bounds for axis 2 with size 3"
     ]
    }
   ],
   "source": [
    "# total test:\n",
    "file_list = lib.walkFile(\"../train_games\")\n",
    "for file in file_list:\n",
    "    if file.endswith('.jpg'):\n",
    "        print(file)\n",
    "        show_suites_for_all_players(file)"
   ]
  },
  {
   "cell_type": "code",
   "execution_count": 4,
   "id": "white-oasis",
   "metadata": {},
   "outputs": [
    {
     "data": {
      "image/png": "[encoded data removed]",
      "text/plain": [
       "<Figure size 432x288 with 4 Axes>"
      ]
     },
     "metadata": {
      "needs_background": "light"
     },
     "output_type": "display_data"
    }
   ],
   "source": [
    "# 1. load templates:\n",
    "template_dict={}\n",
    "template_list = lib.walkFile('templates')\n",
    "for file in template_list:\n",
    "    if 'club' in file:\n",
    "        template_dict['club'] = find_suite.binary_transform(lib.read_image(file))\n",
    "    if 'diamond' in file:\n",
    "        template_dict['diamond'] = find_suite.binary_transform(lib.read_image(file))\n",
    "    if 'heart' in file:\n",
    "        template_dict['heart'] = find_suite.binary_transform(lib.read_image(file))\n",
    "    if 'spade' in file:\n",
    "        template_dict['spade'] = find_suite.binary_transform(lib.read_image(file))\n",
    "\n",
    "        \n",
    "suite_tab = ['diamond','heart','club','spade']     \n",
    "for i in range(4):\n",
    "    plt.subplot(1,4,i+1)\n",
    "    plt.imshow(template_dict[suite_tab[i]])\n",
    "plt.show()\n",
    "   "
   ]
  },
  {
   "cell_type": "code",
   "execution_count": 6,
   "id": "finished-investing",
   "metadata": {},
   "outputs": [
    {
     "name": "stderr",
     "output_type": "stream",
     "text": [
      "C:\\Users\\zyysu\\AppData\\Local\\Programs\\Python\\Python39\\lib\\site-packages\\sklearn\\cluster\\_kmeans.py:984: RuntimeWarning: Explicit initial center position passed: performing only one init in KMeans instead of n_init=10.\n",
      "  self._check_params(X)\n"
     ]
    },
    {
     "data": {
      "image/png": "[encoded data removed]",
      "text/plain": [
       "<Figure size 432x288 with 4 Axes>"
      ]
     },
     "metadata": {
      "needs_background": "light"
     },
     "output_type": "display_data"
    },
    {
     "ename": "IndexError",
     "evalue": "list index out of range",
     "output_type": "error",
     "traceback": [
      "\u001b[1;31m---------------------------------------------------------------------------\u001b[0m",
      "\u001b[1;31mIndexError\u001b[0m                                Traceback (most recent call last)",
      "\u001b[1;32m<ipython-input-6-5aaf4b684719>\u001b[0m in \u001b[0;36m<module>\u001b[1;34m\u001b[0m\n\u001b[0;32m     14\u001b[0m \u001b[1;33m\u001b[0m\u001b[0m\n\u001b[0;32m     15\u001b[0m \u001b[1;32mfor\u001b[0m \u001b[0mi\u001b[0m \u001b[1;32min\u001b[0m \u001b[0mrange\u001b[0m\u001b[1;33m(\u001b[0m\u001b[1;36m4\u001b[0m\u001b[1;33m)\u001b[0m\u001b[1;33m:\u001b[0m\u001b[1;33m\u001b[0m\u001b[1;33m\u001b[0m\u001b[0m\n\u001b[1;32m---> 16\u001b[1;33m     \u001b[0mcropped_suite\u001b[0m\u001b[1;33m,\u001b[0m\u001b[0mxmin\u001b[0m\u001b[1;33m,\u001b[0m\u001b[0mxmax\u001b[0m\u001b[1;33m,\u001b[0m\u001b[0mymin\u001b[0m\u001b[1;33m,\u001b[0m\u001b[0mymax\u001b[0m \u001b[1;33m=\u001b[0m \u001b[0mfind_suite\u001b[0m\u001b[1;33m.\u001b[0m\u001b[0mcrop_suite\u001b[0m\u001b[1;33m(\u001b[0m\u001b[0mcards\u001b[0m\u001b[1;33m[\u001b[0m\u001b[0mi\u001b[0m\u001b[1;33m]\u001b[0m\u001b[1;33m)\u001b[0m\u001b[1;33m\u001b[0m\u001b[1;33m\u001b[0m\u001b[0m\n\u001b[0m\u001b[0;32m     17\u001b[0m     \u001b[0mcolor\u001b[0m \u001b[1;33m=\u001b[0m \u001b[0mfind_suite\u001b[0m\u001b[1;33m.\u001b[0m\u001b[0mdetect_color\u001b[0m\u001b[1;33m(\u001b[0m\u001b[0mxmin\u001b[0m\u001b[1;33m,\u001b[0m\u001b[0mxmax\u001b[0m\u001b[1;33m,\u001b[0m\u001b[0mymin\u001b[0m\u001b[1;33m,\u001b[0m\u001b[0mymax\u001b[0m\u001b[1;33m,\u001b[0m\u001b[0mcards\u001b[0m\u001b[1;33m[\u001b[0m\u001b[0mi\u001b[0m\u001b[1;33m]\u001b[0m\u001b[1;33m)\u001b[0m\u001b[1;33m\u001b[0m\u001b[1;33m\u001b[0m\u001b[0m\n\u001b[0;32m     18\u001b[0m     \u001b[0mres\u001b[0m \u001b[1;33m=\u001b[0m \u001b[0mfind_suite\u001b[0m\u001b[1;33m.\u001b[0m\u001b[0maffin_transform_suites\u001b[0m\u001b[1;33m(\u001b[0m\u001b[0mcropped_suite\u001b[0m\u001b[1;33m,\u001b[0m\u001b[0mxmin\u001b[0m\u001b[1;33m,\u001b[0m\u001b[0mxmax\u001b[0m\u001b[1;33m,\u001b[0m\u001b[0mymin\u001b[0m\u001b[1;33m,\u001b[0m\u001b[0mymax\u001b[0m\u001b[1;33m)\u001b[0m \u001b[1;31m# affin transform with h=63, w=46\u001b[0m\u001b[1;33m\u001b[0m\u001b[1;33m\u001b[0m\u001b[0m\n",
      "\u001b[1;32m~\\OneDrive\\Bureau\\MA2\\pattern\\Image_analysis_project\\yuan\\find_suite.py\u001b[0m in \u001b[0;36mcrop_suite\u001b[1;34m(card)\u001b[0m\n\u001b[0;32m     34\u001b[0m \u001b[1;33m\u001b[0m\u001b[0m\n\u001b[0;32m     35\u001b[0m     \u001b[0moccurence_count\u001b[0m \u001b[1;33m=\u001b[0m \u001b[0mCounter\u001b[0m\u001b[1;33m(\u001b[0m\u001b[0mlabel_list\u001b[0m\u001b[1;33m)\u001b[0m\u001b[1;33m\u001b[0m\u001b[1;33m\u001b[0m\u001b[0m\n\u001b[1;32m---> 36\u001b[1;33m     \u001b[0mres\u001b[0m\u001b[1;33m=\u001b[0m\u001b[0moccurence_count\u001b[0m\u001b[1;33m.\u001b[0m\u001b[0mmost_common\u001b[0m\u001b[1;33m(\u001b[0m\u001b[1;36m1\u001b[0m\u001b[1;33m)\u001b[0m\u001b[1;33m[\u001b[0m\u001b[1;36m0\u001b[0m\u001b[1;33m]\u001b[0m\u001b[1;33m[\u001b[0m\u001b[1;36m0\u001b[0m\u001b[1;33m]\u001b[0m\u001b[1;33m\u001b[0m\u001b[1;33m\u001b[0m\u001b[0m\n\u001b[0m\u001b[0;32m     37\u001b[0m \u001b[1;33m\u001b[0m\u001b[0m\n\u001b[0;32m     38\u001b[0m \u001b[1;33m\u001b[0m\u001b[0m\n",
      "\u001b[1;31mIndexError\u001b[0m: list index out of range"
     ]
    }
   ],
   "source": [
    "# test 1\n",
    "file = \"../train_games/game4/8.jpg\"\n",
    "image = lib.read_image(file)\n",
    "image_dealer = lib.mask_dealer(image)\n",
    "extracted = lib.mask_for_extract_cards(image_dealer)\n",
    "players,centers,points_f,labels = lib.players_clustering(extracted)\n",
    "cards,left_lowers,right_lowers,right_uppers = lib.find_corners(players,centers,image)\n",
    "\n",
    "for i in range(4):\n",
    "    plt.subplot(1,4,i+1)\n",
    "    plt.imshow(cards[i])\n",
    "    plt.title('player '+ str(i+1) )\n",
    "plt.show()\n",
    "\n",
    "for i in range(4):\n",
    "    cropped_suite,xmin,xmax,ymin,ymax = find_suite.crop_suite(cards[i])\n",
    "    color = find_suite.detect_color(xmin,xmax,ymin,ymax,cards[i])\n",
    "    res = find_suite.affin_transform_suites(cropped_suite,xmin,xmax,ymin,ymax) # affin transform with h=63, w=46\n",
    "    bin_res = find_suite.binary_transform(res)\n",
    "    \n",
    "    best_score = 0.0\n",
    "    best_index = None\n",
    "    for j in range(4):\n",
    "        result = match_template(bin_res, template_dict[suite_tab[j]])\n",
    "        if result > best_score:\n",
    "            best_score = result\n",
    "            best_index = j\n",
    "    print(\"player: \", i+1)\n",
    "    print(\"matching suite: \", suite_tab[best_index])\n",
    "    plt.imshow(bin_res)\n",
    "plt.show()"
   ]
  },
  {
   "cell_type": "code",
   "execution_count": null,
   "id": "composed-locking",
   "metadata": {},
   "outputs": [],
   "source": [
    "# test 2\n",
    "file = \"../train_games/game4/6.jpg\"\n",
    "image = lib.read_image(file)\n",
    "image_dealer = lib.mask_dealer(image)\n",
    "extracted = lib.mask_for_extract_cards(image_dealer)\n",
    "players,centers,points_f,labels = lib.players_clustering(extracted)\n",
    "cards,left_lowers,right_lowers,right_uppers = lib.find_corners(players,centers,image)\n",
    "\n",
    "for i in range(4):\n",
    "    plt.subplot(1,4,i+1)\n",
    "    plt.imshow(cards[i])\n",
    "    plt.title('player '+ str(i+1) )\n",
    "plt.show()\n",
    "\n",
    "\n",
    "for i in range(4):\n",
    "    cropped_suite,xmin,xmax,ymin,ymax = find_suite.crop_suite(cards[i])\n",
    "    color = find_suite.detect_color(xmin,xmax,ymin,ymax,cards[i])\n",
    "    res = find_suite.affin_transform_suites(cropped_suite,xmin,xmax,ymin,ymax) # affin transform with h=63, w=46\n",
    "    bin_res = find_suite.binary_transform(res)\n",
    "    \n",
    "    \n",
    "\n",
    "    best_score = 0.0\n",
    "    best_index = None\n",
    "    for j in range(4):\n",
    "        result = match_template(bin_res, template_dict[suite_tab[j]])\n",
    "        if result > best_score:\n",
    "            best_score = result\n",
    "            best_index = j\n",
    "    print(\"player: \", i+1)\n",
    "    print(\"matching suite: \", suite_tab[best_index])\n",
    "    plt.imshow(bin_res)\n",
    "plt.show()"
   ]
  },
  {
   "cell_type": "code",
   "execution_count": null,
   "id": "instructional-fitness",
   "metadata": {},
   "outputs": [],
   "source": [
    "file = \"../train_games/game6/4.jpg\"\n",
    "image = lib.read_image(file)\n",
    "image_dealer = lib.mask_dealer(image)\n",
    "extracted = lib.mask_for_extract_cards(image_dealer)\n",
    "players,centers,points_f,labels = lib.players_clustering(extracted)\n",
    "cards,left_lowers,right_lowers,right_uppers = lib.find_corners(players,centers,image)\n",
    "\n",
    "for i in range(4):\n",
    "    plt.subplot(1,4,i+1)\n",
    "    plt.imshow(cards[i])\n",
    "    plt.title('player '+ str(i+1) )\n",
    "plt.show()\n",
    "\n",
    "for i in range(4):\n",
    "    cropped_suite,xmin,xmax,ymin,ymax = find_suite.crop_suite(cards[i])\n",
    "    color = find_suite.detect_color(xmin,xmax,ymin,ymax,cards[i])\n",
    "    res = find_suite.affin_transform_suites(cropped_suite,xmin,xmax,ymin,ymax) # affin transform with h=63, w=46\n",
    "    bin_res = find_suite.binary_transform(res)\n",
    "    \n",
    "    best_score = 0.0\n",
    "    best_index = None\n",
    "    for j in range(4):\n",
    "        result = match_template(bin_res, template_dict[suite_tab[j]])\n",
    "        result = abs(result)\n",
    "        print(result)\n",
    "        if result > best_score:\n",
    "            best_score = result\n",
    "            best_index = j\n",
    "    print(\"player: \", i+1)\n",
    "    print(\"matching suite: \", suite_tab[best_index])\n",
    "    plt.imshow(bin_res)\n",
    "plt.show()"
   ]
  },
  {
   "cell_type": "code",
   "execution_count": null,
   "id": "surprising-memorial",
   "metadata": {
    "scrolled": true
   },
   "outputs": [],
   "source": [
    "# total test:\n",
    "file_list = lib.walkFile(\"../train_games/game5\")\n",
    "for file in file_list:\n",
    "    if file.endswith('.jpg'):\n",
    "        print(file)\n",
    "       \n",
    "        show_suites_for_all_players(file)"
   ]
  },
  {
   "cell_type": "code",
   "execution_count": null,
   "id": "desperate-paragraph",
   "metadata": {
    "scrolled": false
   },
   "outputs": [],
   "source": [
    "# total test:\n",
    "file_list = lib.walkFile(\"../train_games/game6\")\n",
    "for file in file_list:\n",
    "    if file.endswith('.jpg'):\n",
    "        show_suites_for_all_players(file)"
   ]
  },
  {
   "cell_type": "code",
   "execution_count": 8,
   "id": "absent-setting",
   "metadata": {},
   "outputs": [
    {
     "name": "stdout",
     "output_type": "stream",
     "text": [
      "player: player1\n",
      "left lower: [1341 3940]\n",
      "left upper: [1369 3182]\n",
      "right lower: [1878 3958]\n",
      "right upper: [1877 3216]\n",
      "player: player2\n",
      "left lower: [2476 2377]\n",
      "left upper: [2560 1899]\n",
      "right lower: [3233 2495]\n",
      "right upper: [3326 2002]\n",
      "player: player3\n",
      "left lower: [1773  989]\n",
      "left upper: [1752  234]\n",
      "right lower: [2270  979]\n",
      "right upper: [2249, 223]\n",
      "player: player4\n",
      "left lower: [ 297 2463]\n",
      "left upper: [ 343 1949]\n",
      "right lower: [1060 2499]\n",
      "right upper: [1101 1996]\n",
      "black\n",
      "player:  1\n",
      "matching suite:  club\n",
      "None\n",
      "player:  2\n",
      "matching suite:  None\n",
      "black\n",
      "player:  3\n",
      "matching suite:  spade\n",
      "red\n",
      "player:  4\n",
      "matching suite:  diamond\n"
     ]
    },
    {
     "name": "stderr",
     "output_type": "stream",
     "text": [
      "C:\\Users\\zyysu\\AppData\\Local\\Programs\\Python\\Python39\\lib\\site-packages\\sklearn\\cluster\\_kmeans.py:984: RuntimeWarning: Explicit initial center position passed: performing only one init in KMeans instead of n_init=10.\n",
      "  self._check_params(X)\n"
     ]
    }
   ],
   "source": [
    "file ='../train_games/game4/8.jpg'\n",
    "show_suites_for_all_players(file)\n"
   ]
  },
  {
   "cell_type": "code",
   "execution_count": null,
   "id": "altered-haiti",
   "metadata": {},
   "outputs": [],
   "source": [
    "# total test:\n",
    "file_list = lib.walkFile(\"../train_games/game7\")\n",
    "for file in file_list:\n",
    "    if file.endswith('.jpg'):\n",
    "        show_suites_for_all_players(file)"
   ]
  },
  {
   "cell_type": "code",
   "execution_count": null,
   "id": "damaged-crash",
   "metadata": {},
   "outputs": [],
   "source": []
  }
 ],
 "metadata": {
  "kernelspec": {
   "display_name": "Python 3",
   "language": "python",
   "name": "python3"
  },
  "language_info": {
   "codemirror_mode": {
    "name": "ipython",
    "version": 3
   },
   "file_extension": ".py",
   "mimetype": "text/x-python",
   "name": "python",
   "nbconvert_exporter": "python",
   "pygments_lexer": "ipython3",
   "version": "3.9.1"
  }
 },
 "nbformat": 4,
 "nbformat_minor": 5
}
